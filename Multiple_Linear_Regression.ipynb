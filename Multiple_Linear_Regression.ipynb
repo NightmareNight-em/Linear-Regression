{
 "cells": [
  {
   "cell_type": "markdown",
   "metadata": {
    "colab_type": "text",
    "id": "v_FCTVE5SeoZ"
   },
   "source": [
    "<h1>Function Approximation with a Linear Model</h1>\n",
    "<h2>We would approximate sine function with a <b>Multiple Linear Regression model</h2>\n",
    "<p>y=sin(x) is our <i>Target function</i>.<br><br>\n",
    "y=w0 + w1*x + w2*x^2 result into our <i>Hypothesis set</i>(containing hypothesis functions amongst which our linear model will choose a function that closely corresponds to our <i>Target function</i>).<br><br>\n",
    "x ranges from (0 , 2*pi).<br><br>\n",
    "Also, we have considered two variables or features in our model, x and x^2 to make our multiple linear regression model simple and easy to understand.<br><br>\n",
    "If you are not clear with these terms, have a look at my blog on <a href='https://medium.com/essence-of-learning/components-of-learning-3ced724813e1?source=collection_home---4------1-----------------------' >Components of learning</a>.</p>"
   ]
  },
  {
   "cell_type": "code",
   "execution_count": 2,
   "metadata": {
    "colab": {},
    "colab_type": "code",
    "id": "O6bDaX3HSeod"
   },
   "outputs": [],
   "source": [
    "import numpy as np"
   ]
  },
  {
   "cell_type": "markdown",
   "metadata": {
    "colab_type": "text",
    "id": "2FNjNtG_Seon"
   },
   "source": [
    "### Generate data"
   ]
  },
  {
   "cell_type": "code",
   "execution_count": 3,
   "metadata": {
    "colab": {},
    "colab_type": "code",
    "deletable": false,
    "id": "x-qd7ulwSeor",
    "nbgrader": {
     "checksum": "c56e81e6f580ac51b67dff240b2b0716",
     "grade": false,
     "grade_id": "cell-42de5e80af6ec099",
     "locked": false,
     "schema_version": 1,
     "solution": true
    }
   },
   "outputs": [],
   "source": [
    "def fx(x):\n",
    "    '''\n",
    "    Input:\n",
    "        x: float (scalar) or np array\n",
    "    Output:\n",
    "        y: float (scalar) or np array; y=f(x)=sin(x)\n",
    "        \n",
    "    HINT: Use web search on how to take sine in numpy\n",
    "    '''\n",
    "    \n",
    "    y=np.sin(x)\n",
    "    return y"
   ]
  },
  {
   "cell_type": "code",
   "execution_count": 4,
   "metadata": {
    "colab": {},
    "colab_type": "code",
    "deletable": false,
    "id": "Rvreno9aSeo4",
    "nbgrader": {
     "checksum": "091a38d6b28f58e68e2c3c1de0745096",
     "grade": false,
     "grade_id": "cell-284fa421c7c60677",
     "locked": false,
     "schema_version": 1,
     "solution": true
    }
   },
   "outputs": [],
   "source": [
    "def generateX_fx(N):\n",
    "    '''\n",
    "    Generate N random points in the range (0,1)\n",
    "    Input:\n",
    "        N: int\n",
    "    Outputs:\n",
    "        x: np vector of shape (N,)\n",
    "        y: np vector of shape (N,); y=f(x)\n",
    "    '''\n",
    "    \n",
    "    x=(2*np.pi)*(np.random.random(N))\n",
    "    #print(x)\n",
    "    yd=np.sin(x)\n",
    "    return x, yd"
   ]
  },
  {
   "cell_type": "markdown",
   "metadata": {
    "colab_type": "text",
    "id": "E_Q0TMndSepH"
   },
   "source": [
    "### Plotting"
   ]
  },
  {
   "cell_type": "code",
   "execution_count": 5,
   "metadata": {
    "colab": {
     "base_uri": "https://localhost:8080/",
     "height": 279
    },
    "colab_type": "code",
    "id": "5oPRM3jISepJ",
    "outputId": "4b5edb33-b084-4b47-cabf-9736cecab274"
   },
   "outputs": [
    {
     "data": {
      "text/plain": [
       "<Figure size 640x480 with 1 Axes>"
      ]
     },
     "metadata": {},
     "output_type": "display_data"
    }
   ],
   "source": [
    "def plotdata():\n",
    "    x, yd = generateX_fx(20)\n",
    "    import matplotlib.pyplot as plt\n",
    "    i = x.argsort()\n",
    "    plt.plot(x[i],yd[i])\n",
    "    plt.ylabel('f(x)')\n",
    "    plt.xlabel('x')\n",
    "    plt.show()\n",
    "  \n",
    "plotdata()"
   ]
  },
  {
   "cell_type": "markdown",
   "metadata": {
    "colab_type": "text",
    "id": "OeNg_-YiSepV"
   },
   "source": [
    "## Training\n",
    "We will now define a linear model to estimate the above function, and train it with all the data"
   ]
  },
  {
   "cell_type": "markdown",
   "metadata": {
    "colab_type": "text",
    "id": "Xun43bc1SepX"
   },
   "source": [
    "### Define model\n",
    "$y = \\sum_{d=0}^D w_d x^d$, here, $D$ is the degree of the model, say D=2 <br />\n",
    "\n",
    "In matrix representation: y = Aw <br/>"
   ]
  },
  {
   "cell_type": "code",
   "execution_count": 6,
   "metadata": {
    "colab": {},
    "colab_type": "code",
    "deletable": false,
    "id": "FsiFYhvFSepb",
    "nbgrader": {
     "checksum": "43d662fc8a6834a180aa0c5297d820b0",
     "grade": false,
     "grade_id": "cell-61478073f3568175",
     "locked": false,
     "schema_version": 1,
     "solution": true
    }
   },
   "outputs": [],
   "source": [
    "def createA(x, D):\n",
    "    '''\n",
    "    Create the matrix A with degree D\n",
    "    Input:\n",
    "        x: np vector of shape (N,)\n",
    "        D: degree of the model\n",
    "    Output:\n",
    "        A: np matrix of shape (N,D+1)\n",
    "    '''\n",
    "    A=[]\n",
    "    for i in range(0,D+1):\n",
    "      A.append(np.power(x,i))\n",
    "      \n",
    "      \n",
    "    \n",
    "    return np.array(A).T"
   ]
  },
  {
   "cell_type": "markdown",
   "metadata": {
    "colab_type": "text",
    "id": "C-fyoPm9Sepy"
   },
   "source": [
    "### Estimate Weights\n",
    "Estimate w from yd and A. Use the least square solution which is explained in this <a href='https://www.youtube.com/watch?v=FIbVs5GbBlQ&list=PLD63A284B7615313A&index=3'>vedio</a> by Yaser Abu-Mostafa(Caltech)."
   ]
  },
  {
   "cell_type": "code",
   "execution_count": 7,
   "metadata": {
    "colab": {},
    "colab_type": "code",
    "deletable": false,
    "id": "dwj8wG7dSepz",
    "nbgrader": {
     "checksum": "d35f9eb091158943c36dcb9baec40c0d",
     "grade": false,
     "grade_id": "cell-9bdf45f987ecf410",
     "locked": false,
     "schema_version": 1,
     "solution": true
    }
   },
   "outputs": [],
   "source": [
    "def train_w(A, yd):\n",
    "    '''\n",
    "    Inputs:\n",
    "        A: np matrix of shape (N,D+1)\n",
    "        yd: np vector of shape (N,)\n",
    "    Output:\n",
    "        w: np vector of shape (D+1,)\n",
    "    '''\n",
    "    w=np.linalg.inv(A.T.dot(A)).dot(A.T.dot(yd))\n",
    "    return w"
   ]
  },
  {
   "cell_type": "markdown",
   "metadata": {
    "colab_type": "text",
    "id": "c_hzperdSeqF"
   },
   "source": [
    "### Estimate y from the model, given x"
   ]
  },
  {
   "cell_type": "code",
   "execution_count": 8,
   "metadata": {
    "colab": {},
    "colab_type": "code",
    "deletable": false,
    "id": "3kgewrd3SeqI",
    "nbgrader": {
     "checksum": "fedd759dfd0f0f7bd42f810fd67c06e7",
     "grade": false,
     "grade_id": "cell-18a403e9e2d75c54",
     "locked": false,
     "schema_version": 1,
     "solution": true
    }
   },
   "outputs": [],
   "source": [
    "def predict_y(w, x):\n",
    "    '''\n",
    "    Inputs:\n",
    "        w: np vector of shape (D+1,)\n",
    "        x: np vector of shape (N,)\n",
    "    Outputs:\n",
    "        y: np vector of shape (N,); y=Aw\n",
    "    '''\n",
    "    \n",
    "    A=createA(x, len(w)-1)\n",
    "    y=w.dot(A.T)\n",
    "    return y"
   ]
  },
  {
   "cell_type": "markdown",
   "metadata": {
    "colab_type": "text",
    "id": "Po93sQmUSeqY"
   },
   "source": [
    "### Estimate Error\n",
    "Find E as the mean squared error"
   ]
  },
  {
   "cell_type": "code",
   "execution_count": 9,
   "metadata": {
    "colab": {},
    "colab_type": "code",
    "deletable": false,
    "id": "8ZoyyIsaSeqb",
    "nbgrader": {
     "checksum": "f4531cd0f5c776d35ac5bfb5927c2488",
     "grade": false,
     "grade_id": "cell-430f96298f1ea137",
     "locked": false,
     "schema_version": 1,
     "solution": true
    }
   },
   "outputs": [],
   "source": [
    "def compute_mse(y, yd):\n",
    "    '''\n",
    "    Inputs:\n",
    "        y: np vector of shape (N,); y=Aw\n",
    "        yd: np vector of shape (N,); yd=f(x), ie., desired or true value\n",
    "    Output:\n",
    "        mse: mean squared error\n",
    "    '''\n",
    "    \n",
    "    mse=np.mean(np.power((y-yd),2))\n",
    "    return mse"
   ]
  },
  {
   "cell_type": "markdown",
   "metadata": {
    "colab_type": "text",
    "id": "mqRwu1uTSeqr"
   },
   "source": [
    "### Plotting\n"
   ]
  },
  {
   "cell_type": "code",
   "execution_count": 10,
   "metadata": {
    "colab": {
     "base_uri": "https://localhost:8080/",
     "height": 297
    },
    "colab_type": "code",
    "id": "RVOZzb_xSeqs",
    "outputId": "888d11e5-09c2-4f2a-c0b0-02a096da2939"
   },
   "outputs": [
    {
     "name": "stdout",
     "output_type": "stream",
     "text": [
      "ERROR: 1.693542093976002e-05\n"
     ]
    },
    {
     "data": {
      "image/png": "[encoded data removed]",
      "text/plain": [
       "<Figure size 432x288 with 1 Axes>"
      ]
     },
     "metadata": {
      "needs_background": "light"
     },
     "output_type": "display_data"
    }
   ],
   "source": [
    "def plotModel(x, yd, y):\n",
    "    import matplotlib.pyplot as plt\n",
    "    i = x.argsort()\n",
    "    plt.figure()\n",
    "    plt.plot(x[i],y[i],'g-o')\n",
    "    plt.plot(x[i],yd[i],'r-o')\n",
    "    plt.ylabel('f(x)')\n",
    "    plt.xlabel('x')\n",
    "    plt.legend(['estimated', 'true'])\n",
    "    plt.show()\n",
    "    \n",
    "x,yd=generateX_fx(100)\n",
    "A=createA(x, 6)\n",
    "w=train_w(A, yd)\n",
    "y=predict_y(w,x)\n",
    "print('ERROR:',compute_mse(y, yd))\n",
    "plotModel(x,yd,y)"
   ]
  },
  {
   "cell_type": "markdown",
   "metadata": {
    "colab_type": "text",
    "id": "7YuPofgESeqz"
   },
   "source": [
    "# EXPERIMENTS\n",
    "## Could you train it?\n",
    "Using the above functions:\n",
    "- Generate 20 training points\n",
    "- Train your linear model using x and yd\n",
    "- Predict y (using the linear model you found above) for the training data x\n",
    "- Compare y with yd to find the mean-squared error "
   ]
  },
  {
   "cell_type": "code",
   "execution_count": 11,
   "metadata": {
    "colab": {},
    "colab_type": "code",
    "deletable": false,
    "id": "C6DxpengSeq1",
    "nbgrader": {
     "checksum": "d73e64237a36e1b3e0914ab58e88418e",
     "grade": false,
     "grade_id": "cell-a8b1b747eafd040b",
     "locked": false,
     "schema_version": 1,
     "solution": true
    }
   },
   "outputs": [],
   "source": [
    "def trainModel(N, D):\n",
    "    '''\n",
    "    Inputs:\n",
    "        N: number of samples\n",
    "        D: degree of the model\n",
    "    Outputs:\n",
    "        x: np array of size (N,)\n",
    "        y: np array of size (N,)\n",
    "        yd: np array of size (N,)\n",
    "        w: np array of size (D+1,)\n",
    "        mse: scalar float\n",
    "    '''\n",
    "    x,yd=generateX_fx(N)\n",
    "    A=createA(x, D)\n",
    "    w=train_w(A, yd)\n",
    "    y=predict_y(w,x)\n",
    "    mse=compute_mse(y, yd)\n",
    "    return x, y, yd, w, mse"
   ]
  },
  {
   "cell_type": "markdown",
   "metadata": {
    "colab_type": "text",
    "id": "LS-EDxF6SerA"
   },
   "source": [
    "## Could you test it on new (test) points?\n",
    "Using the above functions:\n",
    "- Generate 30 test points\n",
    "- Estimate y using the linear model w you found above. Do NOT train again\n",
    "- Compare y with yd to find the mean-squared error <br />"
   ]
  },
  {
   "cell_type": "code",
   "execution_count": 12,
   "metadata": {
    "colab": {},
    "colab_type": "code",
    "deletable": false,
    "id": "HjfX98chSerD",
    "nbgrader": {
     "checksum": "8e2c57539832dcdc5a240bb5fb5b1521",
     "grade": false,
     "grade_id": "cell-4a89399915bf1752",
     "locked": false,
     "schema_version": 1,
     "solution": true
    }
   },
   "outputs": [],
   "source": [
    "def testModel(Ntest, w):\n",
    "    '''\n",
    "    Inputs:\n",
    "        Ntest: number of test samples to be generated\n",
    "        w: np array of size (D+1,)\n",
    "    Outputs:\n",
    "        x: np array of size (N,)\n",
    "        y: np array of size (N,)\n",
    "        yd: np array of size (N,)\n",
    "        mse: scalar float\n",
    "    '''\n",
    "    x,yd=generateX_fx(Ntest)\n",
    "    A=A=createA(x, len(w)-1)\n",
    "    y=A.dot(w.T)\n",
    "    mse=compute_mse(y, yd)\n",
    "    \n",
    "    return x, y, yd, mse"
   ]
  },
  {
   "cell_type": "code",
   "execution_count": 17,
   "metadata": {
    "colab": {
     "base_uri": "https://localhost:8080/",
     "height": 612
    },
    "colab_type": "code",
    "id": "kljjoEHLjjVi",
    "outputId": "411a7b17-f229-44a0-b4ef-234b705ee548"
   },
   "outputs": [
    {
     "name": "stdout",
     "output_type": "stream",
     "text": [
      "Visuals for Training dataset\n"
     ]
    },
    {
     "data": {
      "image/png": "[encoded data removed]",
      "text/plain": [
       "<Figure size 432x288 with 1 Axes>"
      ]
     },
     "metadata": {
      "needs_background": "light"
     },
     "output_type": "display_data"
    },
    {
     "name": "stdout",
     "output_type": "stream",
     "text": [
      "ERROR: 0.004985441394553785\n",
      "-----------------------------------------------------\n",
      "Visuals for Test dataset\n"
     ]
    },
    {
     "data": {
      "image/png": "[encoded data removed]",
      "text/plain": [
       "<Figure size 432x288 with 1 Axes>"
      ]
     },
     "metadata": {
      "needs_background": "light"
     },
     "output_type": "display_data"
    },
    {
     "name": "stdout",
     "output_type": "stream",
     "text": [
      "ERROR: 0.0037254060947845835\n"
     ]
    }
   ],
   "source": [
    "#Degree or the number of variables considered in this new model=3\n",
    "#Here, you can play with the degrees\n",
    "x, y, yd, w, mse = trainModel(20, 3)\n",
    "print('Visuals for Training dataset')\n",
    "plotModel(x,yd,y)\n",
    "print('ERROR:',mse)\n",
    "print('-----------------------------------------------------')\n",
    "Ntest=10\n",
    "x, y, yd, mse = testModel(Ntest, w)\n",
    "print('Visuals for Test dataset')\n",
    "plotModel(x,yd,y)\n",
    "print('ERROR:',mse)"
   ]
  },
  {
   "cell_type": "markdown",
   "metadata": {
    "colab_type": "text",
    "id": "Go36dp6wSerQ"
   },
   "source": [
    "# ADVANCED\n",
    "\n",
    "## Does the performance improve with increasing the number of training points?\n",
    "- Repeat the training with different no. of samples. Take N=3, 5, 10, 30; and D=5\n",
    "- Plot training error vs N\n",
    "- Plot test error vs N"
   ]
  },
  {
   "cell_type": "code",
   "execution_count": 19,
   "metadata": {
    "colab": {
     "base_uri": "https://localhost:8080/",
     "height": 421
    },
    "colab_type": "code",
    "id": "3iURU2RvSerR",
    "outputId": "8f07c7d4-91a3-45b5-c846-939664f6359c"
   },
   "outputs": [
    {
     "name": "stdout",
     "output_type": "stream",
     "text": [
      "N= 3\n",
      "mse_train: 0.9763206086211528\n",
      "mse_test: 0.5768880875080603\n",
      "N= 5\n",
      "mse_train: 0.06820547473070242\n",
      "mse_test: 0.056265009357787533\n",
      "N= 10\n",
      "mse_train: 5.3777162103780685e-09\n",
      "mse_test: 0.000492021452589106\n",
      "N= 30\n",
      "mse_train: 1.7808053043757832e-05\n",
      "mse_test: 2.089787016607188e-05\n"
     ]
    },
    {
     "data": {
      "image/png": "[encoded data removed]",
      "text/plain": [
       "<Figure size 432x288 with 1 Axes>"
      ]
     },
     "metadata": {
      "needs_background": "light"
     },
     "output_type": "display_data"
    }
   ],
   "source": [
    "import matplotlib.pyplot as plt\n",
    "for i in [3,5,10,30]:\n",
    "  x,yd=generateX_fx(i)\n",
    "  A=createA(x, 5)\n",
    "  w=train_w(A, yd)\n",
    "  y=predict_y(w,x)\n",
    "  mse_train=compute_mse(y, yd)\n",
    "  print('N=',i)\n",
    "  print('mse_train:',mse_train)\n",
    "  plt.plot(i,mse_train,'g-o')\n",
    "  x,yd=generateX_fx(i)\n",
    "  A=createA(x, len(w)-1)\n",
    "  y=A.dot(w.T)\n",
    "  mse_test=compute_mse(y, yd)\n",
    "  print('mse_test:',mse_test)\n",
    "  plt.plot(i,mse_test,'r-o')\n",
    "plt.ylabel('MSE')\n",
    "plt.xlabel('N')\n",
    "plt.legend(['Train','Test'])\n",
    "# plotdata()\n",
    "plt.show()\n",
    "  "
   ]
  },
  {
   "cell_type": "markdown",
   "metadata": {
    "colab_type": "text",
    "id": "ufAvYDV_SerW"
   },
   "source": [
    "## Does the performance improve with increasing the degree D of the model?\n",
    "- Repeat the training with different degree models. Take D=0, 1, 2, 4, 7, 12, and N=10\n",
    "- Plot training error vs D\n",
    "- Plot test error vs D\n",
    "- Plot y vs x for each D"
   ]
  },
  {
   "cell_type": "code",
   "execution_count": 20,
   "metadata": {
    "colab": {
     "base_uri": "https://localhost:8080/",
     "height": 496
    },
    "colab_type": "code",
    "id": "WB1Zj__RSerX",
    "outputId": "1ca1bc25-6a9c-489a-e08c-069736b5db82"
   },
   "outputs": [
    {
     "name": "stdout",
     "output_type": "stream",
     "text": [
      "D= 0\n",
      "mse_train: 0.3566365024977588\n",
      "mse_test: 0.38247243696960753\n",
      "D= 1\n",
      "mse_train: 0.219619467388038\n",
      "mse_test: 0.27585129482866966\n",
      "D= 2\n",
      "mse_train: 0.15434254529951358\n",
      "mse_test: 0.282709091574236\n",
      "D= 4\n",
      "mse_train: 0.0007507939756555841\n",
      "mse_test: 0.009109006261907606\n",
      "D= 7\n",
      "mse_train: 3.308484542772562e-10\n",
      "mse_test: 4.626534063203714e-09\n",
      "D= 12\n",
      "mse_train: 0.9809197201836121\n",
      "mse_test: 1.61008165602489\n"
     ]
    },
    {
     "data": {
      "image/png": "[encoded data removed]",
      "text/plain": [
       "<Figure size 432x288 with 1 Axes>"
      ]
     },
     "metadata": {
      "needs_background": "light"
     },
     "output_type": "display_data"
    }
   ],
   "source": [
    "import matplotlib.pyplot as plt\n",
    "for i in [0,1,2,4,7,12]:\n",
    "  x,yd=generateX_fx(10)\n",
    "  A=createA(x, i)\n",
    "  w=train_w(A, yd)\n",
    "  y=predict_y(w,x)\n",
    "  mse_train=compute_mse(y, yd)\n",
    "  print('D=',i)\n",
    "  print('mse_train:',mse_train)\n",
    "  plt.plot(i,mse_train,'g-o')\n",
    "  x,yd=generateX_fx(10)\n",
    "  A=createA(x, i)\n",
    "  y=A.dot(w.T)\n",
    "  mse_test=compute_mse(y, yd)\n",
    "  print('mse_test:',mse_test)\n",
    "  plt.plot(i,mse_test,'r-o')\n",
    "plt.ylabel('MSE')\n",
    "plt.xlabel('D')\n",
    "plt.legend(['Train','Test'])\n",
    "# plotdata()\n",
    "plt.show()\n"
   ]
  },
  {
   "cell_type": "code",
   "execution_count": 0,
   "metadata": {
    "colab": {},
    "colab_type": "code",
    "id": "ad_RWQW7nhqu"
   },
   "outputs": [],
   "source": []
  }
 ],
 "metadata": {
  "colab": {
   "collapsed_sections": [],
   "name": "Harshit Nigam - linearData_sine_f.ipynb",
   "provenance": []
  },
  "kernelspec": {
   "display_name": "Python 3",
   "language": "python",
   "name": "python3"
  },
  "language_info": {
   "codemirror_mode": {
    "name": "ipython",
    "version": 3
   },
   "file_extension": ".py",
   "mimetype": "text/x-python",
   "name": "python",
   "nbconvert_exporter": "python",
   "pygments_lexer": "ipython3",
   "version": "3.7.0b4"
  }
 },
 "nbformat": 4,
 "nbformat_minor": 1
}
